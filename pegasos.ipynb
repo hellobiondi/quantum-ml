{
 "cells": [
  {
   "cell_type": "code",
   "execution_count": 212,
   "id": "7a71b376-06f2-4b43-aea9-3cbfafcd326e",
   "metadata": {
    "tags": []
   },
   "outputs": [],
   "source": [
    "import numpy as np\n",
    "import pandas as pd\n",
    "from sklearn.preprocessing import MinMaxScaler\n",
    "import matplotlib.pyplot as plt\n",
    "from sklearn.model_selection import train_test_split\n",
    "from sklearn.metrics import confusion_matrix\n",
    "\n",
    "# Importing standard Qiskit libraries\n",
    "from qiskit.utils import algorithm_globals\n",
    "from qiskit import QuantumCircuit, transpile\n",
    "from qiskit.tools.jupyter import *\n",
    "from qiskit.visualization import *\n",
    "# from ibm_quantum_widgets import *\n",
    "from qiskit import BasicAer\n",
    "from qiskit.circuit.library import ZFeatureMap, ZZFeatureMap\n",
    "\n",
    "from qiskit_machine_learning.kernels import FidelityQuantumKernel\n",
    "from qiskit_machine_learning.algorithms import PegasosQSVC\n",
    "\n",
    "# qiskit-ibmq-provider has been deprecated.\n",
    "# Please see the Migration Guides in https://ibm.biz/provider_migration_guide for more detail.\n",
    "from qiskit_ibm_runtime import QiskitRuntimeService, Sampler, Estimator, Session, Options\n",
    "\n",
    "# Loading your IBM Quantum account(s)\n",
    "# service = QiskitRuntimeService(channel=\"ibm_quantum\")\n",
    "\n",
    "algorithm_globals.random_seed = 12345\n"
   ]
  },
  {
   "cell_type": "code",
   "execution_count": 213,
   "id": "dd884771-f486-465f-bcfd-78c27de8937e",
   "metadata": {},
   "outputs": [],
   "source": [
    "df = pd.read_csv('card_transdata.csv')\n",
    "# Drop rows with NaN values\n",
    "df = df.dropna()\n",
    "\n",
    "df = df.rename(columns={'fraud': 'class'})\n",
    "df = df.rename(columns={'distance_from_home': '1'})\n",
    "df = df.rename(columns={'distance_from_last_transaction': '2'})\n",
    "df = df.rename(columns={'ratio_to_median_purchase_price': '3'})\n",
    "df = df.rename(columns={'repeat_retailer': '4'})\n",
    "df = df.rename(columns={'used_chip': '5'})\n",
    "df = df.rename(columns={'used_pin_number': '6'})\n",
    "df = df.rename(columns={'online_order': '7'})\n",
    "\n",
    "# Select the first three columns\n",
    "cols_to_normalize = ['1', '2', '3']"
   ]
  },
  {
   "cell_type": "code",
   "execution_count": 214,
   "id": "309a9db6",
   "metadata": {},
   "outputs": [],
   "source": [
    "# split out unseen test set\n",
    "train_df, test_df = train_test_split(\n",
    "    df,\n",
    "    test_size=1000,\n",
    "    random_state=algorithm_globals.random_seed,\n",
    "    stratify=df.iloc[:,-1]\n",
    "    )\n",
    "\n",
    "# split out validation set\n",
    "train_df, val_df = train_test_split(\n",
    "    train_df,\n",
    "    test_size=1000,\n",
    "    random_state=algorithm_globals.random_seed,\n",
    "    stratify=train_df.iloc[:,-1]\n",
    "    )\n",
    "\n",
    "#shuffle and reset index in-place of test\n",
    "test_df = test_df.sample(frac=1).reset_index(drop=True)\n",
    "\n",
    "test_features = test_df.iloc[:, :-1]\n",
    "test_labels = test_df.iloc[:, -1]\n",
    "\n",
    "#shuffle and reset index in-place of val\n",
    "val_df = val_df.sample(frac=1).reset_index(drop=True)\n",
    "\n",
    "val_features = val_df.iloc[:, :-1]\n",
    "val_labels = val_df.iloc[:, -1]"
   ]
  },
  {
   "cell_type": "code",
   "execution_count": 215,
   "id": "11c7e821",
   "metadata": {},
   "outputs": [],
   "source": [
    "# get out the equally balanced fraud and non fraud cases\n",
    "nonfraud_df = train_df[train_df['class'] == 0.0].sample(n=1000, ignore_index=True, random_state=42)\n",
    "fraud_df = train_df[train_df['class'] == 1.0].sample(n=1000, ignore_index=True, random_state=42)\n",
    "\n",
    "train_df = pd.concat([fraud_df, nonfraud_df])\n",
    "\n",
    "#shuffle and reset index in-place\n",
    "train_df = train_df.sample(frac=1).reset_index(drop=True)\n",
    "\n"
   ]
  },
  {
   "cell_type": "code",
   "execution_count": 216,
   "id": "35d21d01",
   "metadata": {},
   "outputs": [
    {
     "data": {
      "text/html": [
       "<div>\n",
       "<style scoped>\n",
       "    .dataframe tbody tr th:only-of-type {\n",
       "        vertical-align: middle;\n",
       "    }\n",
       "\n",
       "    .dataframe tbody tr th {\n",
       "        vertical-align: top;\n",
       "    }\n",
       "\n",
       "    .dataframe thead th {\n",
       "        text-align: right;\n",
       "    }\n",
       "</style>\n",
       "<table border=\"1\" class=\"dataframe\">\n",
       "  <thead>\n",
       "    <tr style=\"text-align: right;\">\n",
       "      <th></th>\n",
       "      <th>1</th>\n",
       "      <th>2</th>\n",
       "      <th>3</th>\n",
       "      <th>4</th>\n",
       "      <th>5</th>\n",
       "      <th>6</th>\n",
       "      <th>7</th>\n",
       "      <th>class</th>\n",
       "    </tr>\n",
       "  </thead>\n",
       "  <tbody>\n",
       "    <tr>\n",
       "      <th>0</th>\n",
       "      <td>3.622364</td>\n",
       "      <td>2.169757</td>\n",
       "      <td>1.101860</td>\n",
       "      <td>1.0</td>\n",
       "      <td>0.0</td>\n",
       "      <td>0.0</td>\n",
       "      <td>0.0</td>\n",
       "      <td>0.0</td>\n",
       "    </tr>\n",
       "    <tr>\n",
       "      <th>1</th>\n",
       "      <td>1.450421</td>\n",
       "      <td>0.062994</td>\n",
       "      <td>4.460905</td>\n",
       "      <td>0.0</td>\n",
       "      <td>0.0</td>\n",
       "      <td>0.0</td>\n",
       "      <td>0.0</td>\n",
       "      <td>1.0</td>\n",
       "    </tr>\n",
       "    <tr>\n",
       "      <th>2</th>\n",
       "      <td>64.882148</td>\n",
       "      <td>0.135197</td>\n",
       "      <td>1.588111</td>\n",
       "      <td>1.0</td>\n",
       "      <td>1.0</td>\n",
       "      <td>0.0</td>\n",
       "      <td>1.0</td>\n",
       "      <td>0.0</td>\n",
       "    </tr>\n",
       "    <tr>\n",
       "      <th>3</th>\n",
       "      <td>236.335370</td>\n",
       "      <td>3.572224</td>\n",
       "      <td>0.568215</td>\n",
       "      <td>1.0</td>\n",
       "      <td>0.0</td>\n",
       "      <td>0.0</td>\n",
       "      <td>1.0</td>\n",
       "      <td>1.0</td>\n",
       "    </tr>\n",
       "    <tr>\n",
       "      <th>4</th>\n",
       "      <td>274.900924</td>\n",
       "      <td>1.781220</td>\n",
       "      <td>0.626003</td>\n",
       "      <td>1.0</td>\n",
       "      <td>0.0</td>\n",
       "      <td>0.0</td>\n",
       "      <td>1.0</td>\n",
       "      <td>1.0</td>\n",
       "    </tr>\n",
       "  </tbody>\n",
       "</table>\n",
       "</div>"
      ],
      "text/plain": [
       "            1         2         3    4    5    6    7  class\n",
       "0    3.622364  2.169757  1.101860  1.0  0.0  0.0  0.0    0.0\n",
       "1    1.450421  0.062994  4.460905  0.0  0.0  0.0  0.0    1.0\n",
       "2   64.882148  0.135197  1.588111  1.0  1.0  0.0  1.0    0.0\n",
       "3  236.335370  3.572224  0.568215  1.0  0.0  0.0  1.0    1.0\n",
       "4  274.900924  1.781220  0.626003  1.0  0.0  0.0  1.0    1.0"
      ]
     },
     "execution_count": 216,
     "metadata": {},
     "output_type": "execute_result"
    }
   ],
   "source": [
    "train_df.head()"
   ]
  },
  {
   "cell_type": "code",
   "execution_count": 217,
   "id": "e77b6326",
   "metadata": {},
   "outputs": [],
   "source": [
    "# Create the MinMaxScaler object\n",
    "scaler = MinMaxScaler()\n",
    "\n",
    "train_features = train_df.iloc[:, :-1]\n",
    "train_labels = train_df.iloc[:, -1]\n",
    "\n",
    "scaler = MinMaxScaler(feature_range=(0, np.pi))\n",
    "train_features = scaler.fit_transform(train_features)\n",
    "val_features = scaler.transform(val_features)\n",
    "test_features = scaler.transform(test_features)"
   ]
  },
  {
   "cell_type": "code",
   "execution_count": 218,
   "id": "d75af0ca",
   "metadata": {},
   "outputs": [
    {
     "data": {
      "text/plain": [
       "class\n",
       "0.0    1000\n",
       "1.0    1000\n",
       "Name: count, dtype: int64"
      ]
     },
     "execution_count": 218,
     "metadata": {},
     "output_type": "execute_result"
    }
   ],
   "source": [
    "train_df['class'].value_counts()"
   ]
  },
  {
   "cell_type": "code",
   "execution_count": 219,
   "id": "1a1d3308-3fec-48cd-ba8d-5ceab44a07e4",
   "metadata": {
    "tags": []
   },
   "outputs": [],
   "source": [
    "num_samples = 2000\n",
    "train_size = 0.8\n",
    "\n",
    "# # DIY removal of data\n",
    "# features, removed_features, labels, removed_labels = train_test_split(\n",
    "#     features, labels, train_size=num_samples, shuffle=False\n",
    "# )\n",
    "\n",
    "# split more to have less data\n",
    "# train_features, test_features, train_labels, test_labels = train_test_split(\n",
    "#     features, labels, train_size=train_size, shuffle=False\n",
    "# )"
   ]
  },
  {
   "cell_type": "code",
   "execution_count": 220,
   "id": "ec0ef401-2097-4fe5-94b0-7a8d447e0ff3",
   "metadata": {
    "tags": []
   },
   "outputs": [],
   "source": [
    "# number of qubits is equal to the number of features\n",
    "num_qubits = 7\n",
    "\n",
    "# number of steps performed during the training procedure\n",
    "tau = 300\n",
    "\n",
    "# regularization parameter\n",
    "C = 100"
   ]
  },
  {
   "cell_type": "code",
   "execution_count": 221,
   "id": "eb025f71-8ec0-490a-a13c-f3c3840fd88b",
   "metadata": {
    "tags": []
   },
   "outputs": [
    {
     "name": "stdout",
     "output_type": "stream",
     "text": [
      "     ┌───────────────────────────────────────────────────┐\n",
      "q_0: ┤0                                                  ├\n",
      "     │                                                   │\n",
      "q_1: ┤1                                                  ├\n",
      "     │                                                   │\n",
      "q_2: ┤2                                                  ├\n",
      "     │                                                   │\n",
      "q_3: ┤3 ZZFeatureMap(x[0],x[1],x[2],x[3],x[4],x[5],x[6]) ├\n",
      "     │                                                   │\n",
      "q_4: ┤4                                                  ├\n",
      "     │                                                   │\n",
      "q_5: ┤5                                                  ├\n",
      "     │                                                   │\n",
      "q_6: ┤6                                                  ├\n",
      "     └───────────────────────────────────────────────────┘\n"
     ]
    },
    {
     "data": {
      "image/png": "[encoded data removed]",
      "text/plain": [
       "<Figure size 1792.5x2625.39 with 1 Axes>"
      ]
     },
     "execution_count": 221,
     "metadata": {},
     "output_type": "execute_result"
    }
   ],
   "source": [
    "feature_map = ZZFeatureMap(feature_dimension=num_qubits, reps=1)\n",
    "print(feature_map)\n",
    "\n",
    "qkernel = FidelityQuantumKernel(feature_map=feature_map)\n",
    "feature_map.decompose().draw(output=\"mpl\", fold=20)"
   ]
  },
  {
   "cell_type": "code",
   "execution_count": 222,
   "id": "d58bdbea-2a68-4010-81eb-51360399e0ed",
   "metadata": {
    "tags": []
   },
   "outputs": [
    {
     "name": "stdout",
     "output_type": "stream",
     "text": [
      "2000\n"
     ]
    }
   ],
   "source": [
    "print(len(train_labels))"
   ]
  },
  {
   "cell_type": "code",
   "execution_count": 223,
   "id": "3421a7d7",
   "metadata": {},
   "outputs": [
    {
     "name": "stdout",
     "output_type": "stream",
     "text": [
      "<class 'numpy.ndarray'>\n",
      "<class 'numpy.ndarray'>\n"
     ]
    }
   ],
   "source": [
    "print(type(train_features))\n",
    "print(type(val_features))"
   ]
  },
  {
   "cell_type": "code",
   "execution_count": 224,
   "id": "2610748b",
   "metadata": {},
   "outputs": [
    {
     "data": {
      "text/plain": [
       "class\n",
       "0.0    913\n",
       "1.0     87\n",
       "Name: count, dtype: int64"
      ]
     },
     "execution_count": 224,
     "metadata": {},
     "output_type": "execute_result"
    }
   ],
   "source": [
    "test_labels.value_counts()"
   ]
  },
  {
   "cell_type": "code",
   "execution_count": 225,
   "id": "28f31655-5265-4388-a102-d24ac1015436",
   "metadata": {
    "tags": []
   },
   "outputs": [],
   "source": [
    "# import time\n",
    "# from sklearn.metrics import classification_report, fbeta_score\n",
    "\n",
    "# possible_C = [0.00001, 0.001, 1, 100]\n",
    "# possible_tau = [10, 25, 50, 100, 200, 300]\n",
    "\n",
    "# #for testing purposes\n",
    "# # possible_C = [0.00001]\n",
    "# # possible_tau = [1, 2]\n",
    "\n",
    "# best_C = 0\n",
    "# best_tau = 0\n",
    "# best_fbeta = 0\n",
    "\n",
    "# txtname = 'pegasos_ZFeatureMap_balanced_2000_0706_reps3.txt'\n",
    "\n",
    "# f = open(f\"{txtname}\", 'w')\n",
    "# f.close()\n",
    "\n",
    "# for C in possible_C:\n",
    "#     for tau in possible_tau:\n",
    "#         f = open(f\"{txtname}\", 'a')\n",
    "            \n",
    "#         print(f\"\\nC used is {C}, tau used is {tau}\")\n",
    "        \n",
    "#         pegasos_qsvc = PegasosQSVC(quantum_kernel=qkernel, C=C, num_steps=tau)\n",
    "        \n",
    "#         f.write(f\"\\nC used is {C}, tau used is {tau}\\n\")\n",
    "\n",
    "#         # training\n",
    "#         print('TRAINING')\n",
    "#         start_train = time.time()\n",
    "#         pegasos_qsvc.fit(train_features, train_labels)\n",
    "#         elapsed_train = time.time() - start_train\n",
    "#         f.write(f\"Training time: {round(elapsed_train)} seconds\\n\")\n",
    "\n",
    "#         # testing\n",
    "#         print('TESTING on validation set')\n",
    "#         start_val = time.time()\n",
    "#         pred_labels = pegasos_qsvc.predict(val_features)\n",
    "#         confusionmatrix = str(confusion_matrix(val_labels, pred_labels))\n",
    "#         f.write(confusionmatrix)\n",
    "#         f.write('\\n-----------\\n')\n",
    "#         class_report = str(classification_report(val_labels, pred_labels))\n",
    "#         f.write(class_report)\n",
    "#         fbeta = fbeta_score(val_labels, pred_labels, average='binary', beta=2)\n",
    "\n",
    "#         if fbeta > best_fbeta:\n",
    "#             best_fbeta = fbeta\n",
    "#             best_C = C\n",
    "#             best_tau = tau\n",
    "\n",
    "#         f.write(f'F2 score:{fbeta}\\n')\n",
    "#         elapsed_val = time.time() - start_val\n",
    "#         f.write(f\"Validation time: {round(elapsed_val)} seconds\\n\")\n",
    "#         f.write('-' * 50)\n",
    "#         f.close()\n",
    "\n",
    "# f = open(f\"{txtname}\", 'a')\n",
    "# f.write(f\"\\n\\nThe best parameters found based on F2-score is C={best_C}, and tau={best_tau}. Highest F2-score of {best_fbeta}\")        \n",
    "# f.close()\n",
    "\n",
    "# print(f\"\\nThe best parameters found based on F2-score is C={best_C}, and tau={best_tau}. Highest F2-score of {best_fbeta}\")"
   ]
  },
  {
   "cell_type": "code",
   "execution_count": 227,
   "id": "02892323-aa9c-458f-8664-dd9319810301",
   "metadata": {
    "tags": []
   },
   "outputs": [
    {
     "name": "stdout",
     "output_type": "stream",
     "text": [
      "[[823  90]\n",
      " [  0  87]]\n",
      "              precision    recall  f1-score   support\n",
      "\n",
      "         0.0       1.00      0.90      0.95       913\n",
      "         1.0       0.49      1.00      0.66        87\n",
      "\n",
      "    accuracy                           0.91      1000\n",
      "   macro avg       0.75      0.95      0.80      1000\n",
      "weighted avg       0.96      0.91      0.92      1000\n",
      "\n",
      "776.1117608547211\n"
     ]
    }
   ],
   "source": [
    "pegasos_qsvc = PegasosQSVC(quantum_kernel=qkernel, C=C, num_steps=tau)\n",
    "\n",
    "# # training\n",
    "pegasos_qsvc.fit(train_features, train_labels)\n",
    "\n",
    "import time\n",
    "start_test = time.time()\n",
    "pred_labels = pegasos_qsvc.predict(test_features)\n",
    "confusionmatrix = str(confusion_matrix(test_labels, pred_labels))\n",
    "print(confusionmatrix)\n",
    "class_report = str(classification_report(test_labels, pred_labels))\n",
    "print(class_report)\n",
    "\n",
    "print(time.time() - start_test)"
   ]
  },
  {
   "cell_type": "code",
   "execution_count": null,
   "id": "03279a16",
   "metadata": {},
   "outputs": [
    {
     "name": "stdout",
     "output_type": "stream",
     "text": [
      "FINAL TESTING SET\n",
      "Results for reps = 1\n",
      "[[876  37]\n",
      " [ 38  49]]\n",
      "              precision    recall  f1-score   support\n",
      "\n",
      "         0.0       0.96      0.96      0.96       913\n",
      "         1.0       0.57      0.56      0.57        87\n",
      "\n",
      "    accuracy                           0.93      1000\n",
      "   macro avg       0.76      0.76      0.76      1000\n",
      "weighted avg       0.92      0.93      0.92      1000\n",
      "\n",
      "F2 score: 0.5645161290322581\n",
      "[[870  43]\n",
      " [ 36  51]]\n",
      "              precision    recall  f1-score   support\n",
      "\n",
      "         0.0       0.96      0.95      0.96       913\n",
      "         1.0       0.54      0.59      0.56        87\n",
      "\n",
      "    accuracy                           0.92      1000\n",
      "   macro avg       0.75      0.77      0.76      1000\n",
      "weighted avg       0.92      0.92      0.92      1000\n",
      "\n",
      "F2 score: 0.5769230769230768\n",
      "Results for reps = 2\n",
      "[[897  16]\n",
      " [ 71  16]]\n",
      "              precision    recall  f1-score   support\n",
      "\n",
      "         0.0       0.93      0.98      0.95       913\n",
      "         1.0       0.50      0.18      0.27        87\n",
      "\n",
      "    accuracy                           0.91      1000\n",
      "   macro avg       0.71      0.58      0.61      1000\n",
      "weighted avg       0.89      0.91      0.89      1000\n",
      "\n",
      "F2 score: 0.2105263157894737\n",
      "[[898  15]\n",
      " [ 63  24]]\n",
      "              precision    recall  f1-score   support\n",
      "\n",
      "         0.0       0.93      0.98      0.96       913\n",
      "         1.0       0.62      0.28      0.38        87\n",
      "\n",
      "    accuracy                           0.92      1000\n",
      "   macro avg       0.77      0.63      0.67      1000\n",
      "weighted avg       0.91      0.92      0.91      1000\n",
      "\n",
      "F2 score: 0.31007751937984496\n",
      "Results for reps = 3\n",
      "[[708 205]\n",
      " [  0  87]]\n",
      "              precision    recall  f1-score   support\n",
      "\n",
      "         0.0       1.00      0.78      0.87       913\n",
      "         1.0       0.30      1.00      0.46        87\n",
      "\n",
      "    accuracy                           0.80      1000\n",
      "   macro avg       0.65      0.89      0.67      1000\n",
      "weighted avg       0.94      0.80      0.84      1000\n",
      "\n",
      "F2 score: 0.6796875000000001\n",
      "[[729 184]\n",
      " [  1  86]]\n",
      "              precision    recall  f1-score   support\n",
      "\n",
      "         0.0       1.00      0.80      0.89       913\n",
      "         1.0       0.32      0.99      0.48        87\n",
      "\n",
      "    accuracy                           0.81      1000\n",
      "   macro avg       0.66      0.89      0.68      1000\n",
      "weighted avg       0.94      0.81      0.85      1000\n",
      "\n",
      "F2 score: 0.6957928802588996\n"
     ]
    }
   ],
   "source": [
    "# # testing\n",
    "\n",
    "# best_hyperparams = {\n",
    "#     'reps': [1, 2, 3],\n",
    "#     'C': [100, 0.001, 100],\n",
    "#     'tau': [300, 100, 300],\n",
    "# }\n",
    "\n",
    "# zfeaturemap = []\n",
    "\n",
    "# print(\"FINAL TESTING SET\")\n",
    "\n",
    "# for i in range(3):\n",
    "\n",
    "#     print(f\"Results for reps = {i+1}\")\n",
    "\n",
    "#     feature_map = ZFeatureMap(feature_dimension=num_qubits, reps=best_hyperparams['reps'][i])\n",
    "#     qkernel = FidelityQuantumKernel(feature_map=feature_map)\n",
    "\n",
    "#     pegasos_qsvc = PegasosQSVC(\n",
    "#         quantum_kernel=qkernel,\n",
    "#         C=best_hyperparams['C'][i],\n",
    "#         num_steps=best_hyperparams['tau'][i]\n",
    "#         )\n",
    "\n",
    "#     pegasos_qsvc.fit(train_features, train_labels)\n",
    "\n",
    "#     val_pred_labels = pegasos_qsvc.predict(val_features)\n",
    "#     print(confusion_matrix(val_labels, val_pred_labels))\n",
    "#     print(classification_report(val_labels, val_pred_labels))\n",
    "#     val_f2 = fbeta_score(val_labels, val_pred_labels, average='binary', beta=2)\n",
    "#     print(f\"F2 score: {val_f2}\")\n",
    "\n",
    "#     test_pred_labels = pegasos_qsvc.predict(test_features)\n",
    "#     print(confusion_matrix(test_labels, test_pred_labels))\n",
    "#     print(classification_report(test_labels, test_pred_labels))\n",
    "#     test_f2 = fbeta_score(test_labels, test_pred_labels, average='binary', beta=2)\n",
    "#     print(f\"F2 score: {test_f2}\")\n",
    "\n",
    "#     zfeaturemap.append((val_f2, test_f2))"
   ]
  },
  {
   "cell_type": "code",
   "execution_count": null,
   "id": "de05833d",
   "metadata": {},
   "outputs": [
    {
     "name": "stdout",
     "output_type": "stream",
     "text": [
      "FINAL TESTING SET\n",
      "Results for reps = 1\n",
      "[[782 131]\n",
      " [  0  87]]\n",
      "              precision    recall  f1-score   support\n",
      "\n",
      "         0.0       1.00      0.86      0.92       913\n",
      "         1.0       0.40      1.00      0.57        87\n",
      "\n",
      "    accuracy                           0.87      1000\n",
      "   macro avg       0.70      0.93      0.75      1000\n",
      "weighted avg       0.95      0.87      0.89      1000\n",
      "\n",
      "F2 score: 0.7685512367491166\n",
      "[[784 129]\n",
      " [  0  87]]\n",
      "              precision    recall  f1-score   support\n",
      "\n",
      "         0.0       1.00      0.86      0.92       913\n",
      "         1.0       0.40      1.00      0.57        87\n",
      "\n",
      "    accuracy                           0.87      1000\n",
      "   macro avg       0.70      0.93      0.75      1000\n",
      "weighted avg       0.95      0.87      0.89      1000\n",
      "\n",
      "F2 score: 0.7712765957446808\n",
      "Results for reps = 2\n",
      "[[818  95]\n",
      " [  3  84]]\n",
      "              precision    recall  f1-score   support\n",
      "\n",
      "         0.0       1.00      0.90      0.94       913\n",
      "         1.0       0.47      0.97      0.63        87\n",
      "\n",
      "    accuracy                           0.90      1000\n",
      "   macro avg       0.73      0.93      0.79      1000\n",
      "weighted avg       0.95      0.90      0.92      1000\n",
      "\n",
      "F2 score: 0.7969639468690702\n",
      "[[828  85]\n",
      " [  2  85]]\n",
      "              precision    recall  f1-score   support\n",
      "\n",
      "         0.0       1.00      0.91      0.95       913\n",
      "         1.0       0.50      0.98      0.66        87\n",
      "\n",
      "    accuracy                           0.91      1000\n",
      "   macro avg       0.75      0.94      0.81      1000\n",
      "weighted avg       0.95      0.91      0.92      1000\n",
      "\n",
      "F2 score: 0.8204633204633205\n",
      "Results for reps = 3\n",
      "[[913   0]\n",
      " [ 87   0]]\n",
      "              precision    recall  f1-score   support\n",
      "\n",
      "         0.0       0.91      1.00      0.95       913\n",
      "         1.0       0.00      0.00      0.00        87\n",
      "\n",
      "    accuracy                           0.91      1000\n",
      "   macro avg       0.46      0.50      0.48      1000\n",
      "weighted avg       0.83      0.91      0.87      1000\n",
      "\n",
      "F2 score: 0.0\n",
      "[[913   0]\n",
      " [ 87   0]]\n",
      "              precision    recall  f1-score   support\n",
      "\n",
      "         0.0       0.91      1.00      0.95       913\n",
      "         1.0       0.00      0.00      0.00        87\n",
      "\n",
      "    accuracy                           0.91      1000\n",
      "   macro avg       0.46      0.50      0.48      1000\n",
      "weighted avg       0.83      0.91      0.87      1000\n",
      "\n",
      "F2 score: 0.0\n"
     ]
    }
   ],
   "source": [
    "# # testing\n",
    "\n",
    "# best_hyperparams = {\n",
    "#     'reps': [1, 2, 3],\n",
    "#     'C': [100, 100, 1],\n",
    "#     'tau': [300, 200, 50],\n",
    "# }\n",
    "\n",
    "# zzfeaturemap = []\n",
    "\n",
    "# print(\"FINAL TESTING SET\")\n",
    "\n",
    "# for i in range(3):\n",
    "\n",
    "#     print(f\"Results for reps = {i+1}\")\n",
    "\n",
    "#     feature_map = ZZFeatureMap(feature_dimension=num_qubits, reps=best_hyperparams['reps'][i])\n",
    "#     qkernel = FidelityQuantumKernel(feature_map=feature_map)\n",
    "\n",
    "#     pegasos_qsvc = PegasosQSVC(\n",
    "#         quantum_kernel=qkernel,\n",
    "#         C=best_hyperparams['C'][i],\n",
    "#         num_steps=best_hyperparams['tau'][i]\n",
    "#         )\n",
    "\n",
    "#     pegasos_qsvc.fit(train_features, train_labels)\n",
    "\n",
    "#     val_pred_labels = pegasos_qsvc.predict(val_features)\n",
    "#     print(confusion_matrix(val_labels, val_pred_labels))\n",
    "#     print(classification_report(val_labels, val_pred_labels, zero_division=0))\n",
    "#     val_f2 = fbeta_score(val_labels, val_pred_labels, average='binary', beta=2)\n",
    "#     print(f\"F2 score: {val_f2}\")\n",
    "\n",
    "#     test_pred_labels = pegasos_qsvc.predict(test_features)\n",
    "#     print(confusion_matrix(test_labels, test_pred_labels))\n",
    "#     print(classification_report(test_labels, test_pred_labels, zero_division=0))\n",
    "#     test_f2 = fbeta_score(test_labels, test_pred_labels, average='binary', beta=2)\n",
    "#     print(f\"F2 score: {test_f2}\")\n",
    "\n",
    "#     zzfeaturemap.append((val_f2, test_f2))"
   ]
  },
  {
   "cell_type": "code",
   "execution_count": null,
   "id": "d3333c6f",
   "metadata": {},
   "outputs": [
    {
     "name": "stdout",
     "output_type": "stream",
     "text": [
      "[(0.5645161290322581, 0.5769230769230768), (0.2105263157894737, 0.31007751937984496), (0.6796875000000001, 0.6957928802588996)]\n"
     ]
    },
    {
     "ename": "NameError",
     "evalue": "name 'zzfeaturemap' is not defined",
     "output_type": "error",
     "traceback": [
      "\u001b[0;31m---------------------------------------------------------------------------\u001b[0m",
      "\u001b[0;31mNameError\u001b[0m                                 Traceback (most recent call last)",
      "Cell \u001b[0;32mIn[167], line 3\u001b[0m\n\u001b[1;32m      1\u001b[0m \u001b[38;5;28mprint\u001b[39m(zfeaturemap)\n\u001b[0;32m----> 3\u001b[0m \u001b[38;5;28mprint\u001b[39m(\u001b[43mzzfeaturemap\u001b[49m)\n",
      "\u001b[0;31mNameError\u001b[0m: name 'zzfeaturemap' is not defined"
     ]
    }
   ],
   "source": [
    "# print(zfeaturemap)\n",
    "\n",
    "# print(zzfeaturemap)"
   ]
  }
 ],
 "metadata": {
  "interpreter": {
   "hash": "005d0c62682b9f62e72f4daf79a6a17803af2ec36e38f1b83df2b5aaa0fab714"
  },
  "kernelspec": {
   "display_name": "Python 3.11.3 ('qiskit')",
   "language": "python",
   "name": "python3"
  },
  "language_info": {
   "codemirror_mode": {
    "name": "ipython",
    "version": 3
   },
   "file_extension": ".py",
   "mimetype": "text/x-python",
   "name": "python",
   "nbconvert_exporter": "python",
   "pygments_lexer": "ipython3",
   "version": "3.11.3"
  },
  "widgets": {
   "application/vnd.jupyter.widget-state+json": {
    "state": {
     "03b91baa576d4d63b3678dc7ad0cb3a9": {
      "model_module": "@jupyter-widgets/controls",
      "model_module_version": "2.0.0",
      "model_name": "HTMLStyleModel",
      "state": {
       "description_width": "",
       "font_size": null,
       "text_color": null
      }
     },
     "086381aebc0f474a926249869bee76cb": {
      "model_module": "@jupyter-widgets/controls",
      "model_module_version": "2.0.0",
      "model_name": "HTMLModel",
      "state": {
       "layout": "IPY_MODEL_459fbd029d3c4e7e9948ebdcedae65d3",
       "style": "IPY_MODEL_932fd47f6dd248e3ad46e0c46d061b4c",
       "value": "<p style='font-family: IBM Plex Sans, Arial, Helvetica, sans-serif; font-size: 20px; font-weight: medium;'>Circuit Properties</p>"
      }
     },
     "2d1d26122a1b4265b0a5bb2c0fd6a261": {
      "model_module": "@jupyter-widgets/controls",
      "model_module_version": "2.0.0",
      "model_name": "HTMLModel",
      "state": {
       "layout": "IPY_MODEL_de0a3201f6634a6a9cf7271b663ecd2c",
       "style": "IPY_MODEL_2da3ccdf1db24c6cacce250b1cc6805f",
       "value": "<h5>Backend</h5>"
      }
     },
     "2da3ccdf1db24c6cacce250b1cc6805f": {
      "model_module": "@jupyter-widgets/controls",
      "model_module_version": "2.0.0",
      "model_name": "HTMLStyleModel",
      "state": {
       "description_width": "",
       "font_size": null,
       "text_color": null
      }
     },
     "33a56da4832b408eb01ba5eb7b2bb965": {
      "model_module": "@jupyter-widgets/controls",
      "model_module_version": "2.0.0",
      "model_name": "HTMLModel",
      "state": {
       "layout": "IPY_MODEL_6023bf5485a34966b0f9c7c9e1ae79a9",
       "style": "IPY_MODEL_92417deef4b646a890b2d0cf8420b755",
       "value": "<h5>Queue</h5>"
      }
     },
     "3e4bc56a483742f887a9cc0eaeb6bae6": {
      "model_module": "@jupyter-widgets/controls",
      "model_module_version": "2.0.0",
      "model_name": "HTMLStyleModel",
      "state": {
       "description_width": "",
       "font_size": null,
       "text_color": null
      }
     },
     "459fbd029d3c4e7e9948ebdcedae65d3": {
      "model_module": "@jupyter-widgets/base",
      "model_module_version": "2.0.0",
      "model_name": "LayoutModel",
      "state": {
       "margin": "0px 0px 10px 0px"
      }
     },
     "5002c59b44fe42f480b09b06963e348b": {
      "model_module": "@jupyter-widgets/controls",
      "model_module_version": "2.0.0",
      "model_name": "HTMLStyleModel",
      "state": {
       "description_width": "",
       "font_size": null,
       "text_color": null
      }
     },
     "5aab0c088d4a4c279f2b8f07f8d6af39": {
      "model_module": "@jupyter-widgets/controls",
      "model_module_version": "2.0.0",
      "model_name": "HTMLModel",
      "state": {
       "layout": "IPY_MODEL_7be0ca63d068463f8d662cfe166320f7",
       "style": "IPY_MODEL_5002c59b44fe42f480b09b06963e348b",
       "value": "<h5>Job ID</h5>"
      }
     },
     "5d7c53bfd8bb45f59fab067455843384": {
      "model_module": "@jupyter-widgets/base",
      "model_module_version": "2.0.0",
      "model_name": "LayoutModel",
      "state": {
       "width": "95px"
      }
     },
     "6023bf5485a34966b0f9c7c9e1ae79a9": {
      "model_module": "@jupyter-widgets/base",
      "model_module_version": "2.0.0",
      "model_name": "LayoutModel",
      "state": {
       "width": "70px"
      }
     },
     "6ad6fd0a7acd4a71bc07492f4e841ee9": {
      "model_module": "@jupyter-widgets/controls",
      "model_module_version": "2.0.0",
      "model_name": "HTMLModel",
      "state": {
       "layout": "IPY_MODEL_8d9a0e83ff6e42f1ad98ae7cce9ff3cb",
       "style": "IPY_MODEL_03b91baa576d4d63b3678dc7ad0cb3a9",
       "value": "<h5>Message</h5>"
      }
     },
     "7be0ca63d068463f8d662cfe166320f7": {
      "model_module": "@jupyter-widgets/base",
      "model_module_version": "2.0.0",
      "model_name": "LayoutModel",
      "state": {
       "width": "190px"
      }
     },
     "86d06afa6d2546c9b818da8a2e12fff6": {
      "model_module": "@jupyter-widgets/base",
      "model_module_version": "2.0.0",
      "model_name": "LayoutModel",
      "state": {
       "margin": "0px 0px 0px 37px",
       "width": "600px"
      }
     },
     "871fc4aedb3e4981833793ecb285ee8a": {
      "model_module": "@jupyter-widgets/controls",
      "model_module_version": "2.0.0",
      "model_name": "ButtonStyleModel",
      "state": {
       "font_family": null,
       "font_size": null,
       "font_style": null,
       "font_variant": null,
       "font_weight": null,
       "text_color": null,
       "text_decoration": null
      }
     },
     "8d9a0e83ff6e42f1ad98ae7cce9ff3cb": {
      "model_module": "@jupyter-widgets/base",
      "model_module_version": "2.0.0",
      "model_name": "LayoutModel",
      "state": {}
     },
     "92417deef4b646a890b2d0cf8420b755": {
      "model_module": "@jupyter-widgets/controls",
      "model_module_version": "2.0.0",
      "model_name": "HTMLStyleModel",
      "state": {
       "description_width": "",
       "font_size": null,
       "text_color": null
      }
     },
     "932fd47f6dd248e3ad46e0c46d061b4c": {
      "model_module": "@jupyter-widgets/controls",
      "model_module_version": "2.0.0",
      "model_name": "HTMLStyleModel",
      "state": {
       "description_width": "",
       "font_size": null,
       "text_color": null
      }
     },
     "a05b08b8517440cab866f2f433c31575": {
      "model_module": "@jupyter-widgets/controls",
      "model_module_version": "2.0.0",
      "model_name": "ButtonModel",
      "state": {
       "button_style": "primary",
       "description": "Clear",
       "layout": "IPY_MODEL_c058079bfed04cabb443f90a971b6b1b",
       "style": "IPY_MODEL_871fc4aedb3e4981833793ecb285ee8a",
       "tooltip": null
      }
     },
     "a9f2b4a0b6f8416bbe52f6e56f7e1c62": {
      "model_module": "@jupyter-widgets/controls",
      "model_module_version": "2.0.0",
      "model_name": "GridBoxModel",
      "state": {
       "children": [
        "IPY_MODEL_a05b08b8517440cab866f2f433c31575"
       ],
       "layout": "IPY_MODEL_e318b7d8c26b463d968807d36de54841"
      }
     },
     "c058079bfed04cabb443f90a971b6b1b": {
      "model_module": "@jupyter-widgets/base",
      "model_module_version": "2.0.0",
      "model_name": "LayoutModel",
      "state": {
       "grid_area": "right",
       "padding": "0px 0px 0px 0px",
       "width": "70px"
      }
     },
     "c454c3f954964a5cad50687c7332a646": {
      "model_module": "@jupyter-widgets/controls",
      "model_module_version": "2.0.0",
      "model_name": "HTMLModel",
      "state": {
       "layout": "IPY_MODEL_5d7c53bfd8bb45f59fab067455843384",
       "style": "IPY_MODEL_3e4bc56a483742f887a9cc0eaeb6bae6",
       "value": "<h5>Status</h5>"
      }
     },
     "c5a618e33eee4c1f903ef5628ef8eac0": {
      "model_module": "@jupyter-widgets/controls",
      "model_module_version": "2.0.0",
      "model_name": "HBoxModel",
      "state": {
       "children": [
        "IPY_MODEL_5aab0c088d4a4c279f2b8f07f8d6af39",
        "IPY_MODEL_2d1d26122a1b4265b0a5bb2c0fd6a261",
        "IPY_MODEL_c454c3f954964a5cad50687c7332a646",
        "IPY_MODEL_33a56da4832b408eb01ba5eb7b2bb965",
        "IPY_MODEL_6ad6fd0a7acd4a71bc07492f4e841ee9"
       ],
       "layout": "IPY_MODEL_86d06afa6d2546c9b818da8a2e12fff6"
      }
     },
     "de0a3201f6634a6a9cf7271b663ecd2c": {
      "model_module": "@jupyter-widgets/base",
      "model_module_version": "2.0.0",
      "model_name": "LayoutModel",
      "state": {
       "width": "145px"
      }
     },
     "e318b7d8c26b463d968807d36de54841": {
      "model_module": "@jupyter-widgets/base",
      "model_module_version": "2.0.0",
      "model_name": "LayoutModel",
      "state": {
       "grid_template_areas": "\n                                       \". . . . right \"\n                                        ",
       "grid_template_columns": "20% 20% 20% 20% 20%",
       "width": "100%"
      }
     }
    },
    "version_major": 2,
    "version_minor": 0
   }
  }
 },
 "nbformat": 4,
 "nbformat_minor": 5
}
